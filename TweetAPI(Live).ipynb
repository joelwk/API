{
 "cells": [
  {
   "cell_type": "markdown",
   "metadata": {},
   "source": [
    "## Live Twitter API"
   ]
  },
  {
   "cell_type": "code",
   "execution_count": null,
   "metadata": {},
   "outputs": [],
   "source": [
    "import re\n",
    "import base64\n",
    "import requests\n",
    "import pandas as pd\n",
    "import numpy as np\n",
    "import requests as response\n",
    "import base64\n"
   ]
  },
  {
   "cell_type": "code",
   "execution_count": 78,
   "metadata": {},
   "outputs": [],
   "source": [
    "# Authenticate to Twitter\n",
    "#auth = tweepy.OAuthHandler(\"\", \"\")\n",
    "#auth.set_access_token(\"\", \"\")\n",
    "\n",
    "# Create API object\n",
    "#api = tweepy.API(auth)"
   ]
  },
  {
   "cell_type": "code",
   "execution_count": 79,
   "metadata": {},
   "outputs": [],
   "source": [
    "client_key = ''\n",
    "client_secret = ''\n",
    "\n",
    "key_secret = '{}:{}'.format(client_key, client_secret).encode('ascii')\n",
    "b64_encoded_key = base64.b64encode(key_secret)\n",
    "b64_encoded_key = b64_encoded_key.decode('ascii')"
   ]
  },
  {
   "cell_type": "code",
   "execution_count": 80,
   "metadata": {},
   "outputs": [],
   "source": [
    "base_url = 'https://api.twitter.com/'\n",
    "auth_url = '{}oauth2/token'.format(base_url)\n",
    "auth_headers = {\n",
    "    'Authorization': 'Basic {}'.format(b64_encoded_key),\n",
    "    'Content-Type': 'application/x-www-form-urlencoded;charset=UTF-8'\n",
    "}\n",
    "\n",
    "auth_data = {\n",
    "    'grant_type': 'client_credentials'\n",
    "}\n",
    "\n",
    "auth_resp = requests.post(auth_url, headers=auth_headers, data=auth_data)"
   ]
  },
  {
   "cell_type": "code",
   "execution_count": 81,
   "metadata": {},
   "outputs": [
    {
     "data": {
      "text/plain": [
       "200"
      ]
     },
     "execution_count": 81,
     "metadata": {},
     "output_type": "execute_result"
    }
   ],
   "source": [
    "auth_resp.status_code"
   ]
  },
  {
   "cell_type": "code",
   "execution_count": 82,
   "metadata": {
    "scrolled": true
   },
   "outputs": [
    {
     "data": {
      "text/plain": [
       "dict_keys(['token_type', 'access_token'])"
      ]
     },
     "execution_count": 82,
     "metadata": {},
     "output_type": "execute_result"
    }
   ],
   "source": [
    "auth_resp.json().keys()"
   ]
  },
  {
   "cell_type": "code",
   "execution_count": 83,
   "metadata": {},
   "outputs": [],
   "source": [
    "access_token = auth_resp.json()['access_token']"
   ]
  },
  {
   "cell_type": "code",
   "execution_count": 84,
   "metadata": {},
   "outputs": [],
   "source": [
    "maxTweets = 200\n",
    "\n",
    "search_headers = {\n",
    "    'Authorization': 'Bearer {}'.format(access_token)    \n",
    "}\n",
    "\n",
    "params = {\n",
    "    'q': '(bitcoin OR XRP OR COVID)',\n",
    "    'tweet_mode': 'extended',\n",
    "    'lang': 'en',\n",
    "    'count': 'maxTweets'\n",
    "}\n",
    "\n",
    "search_url = '{}1.1/search/tweets.json'.format(base_url)\n",
    "\n",
    "response = requests.get(search_url, headers=search_headers, params=params)"
   ]
  },
  {
   "cell_type": "code",
   "execution_count": 85,
   "metadata": {},
   "outputs": [
    {
     "data": {
      "text/plain": [
       "200"
      ]
     },
     "execution_count": 85,
     "metadata": {},
     "output_type": "execute_result"
    }
   ],
   "source": [
    "response.status_code"
   ]
  },
  {
   "cell_type": "code",
   "execution_count": 86,
   "metadata": {},
   "outputs": [],
   "source": [
    "df = pd.DataFrame()\n",
    "for tweet in response.json()['statuses']:\n",
    "    row = get_data(tweet)\n",
    "    df = df.append(row, ignore_index=True)"
   ]
  },
  {
   "cell_type": "code",
   "execution_count": 87,
   "metadata": {},
   "outputs": [
    {
     "data": {
      "text/html": [
       "<div>\n",
       "<style scoped>\n",
       "    .dataframe tbody tr th:only-of-type {\n",
       "        vertical-align: middle;\n",
       "    }\n",
       "\n",
       "    .dataframe tbody tr th {\n",
       "        vertical-align: top;\n",
       "    }\n",
       "\n",
       "    .dataframe thead th {\n",
       "        text-align: right;\n",
       "    }\n",
       "</style>\n",
       "<table border=\"1\" class=\"dataframe\">\n",
       "  <thead>\n",
       "    <tr style=\"text-align: right;\">\n",
       "      <th></th>\n",
       "      <th>created_at</th>\n",
       "      <th>id</th>\n",
       "      <th>text</th>\n",
       "    </tr>\n",
       "  </thead>\n",
       "  <tbody>\n",
       "    <tr>\n",
       "      <th>count</th>\n",
       "      <td>15</td>\n",
       "      <td>15</td>\n",
       "      <td>15</td>\n",
       "    </tr>\n",
       "    <tr>\n",
       "      <th>unique</th>\n",
       "      <td>2</td>\n",
       "      <td>15</td>\n",
       "      <td>15</td>\n",
       "    </tr>\n",
       "    <tr>\n",
       "      <th>top</th>\n",
       "      <td>Tue Dec 22 12:08:34 +0000 2020</td>\n",
       "      <td>1341354942410342405</td>\n",
       "      <td>Hi @marenaltman I was just thinking if you wou...</td>\n",
       "    </tr>\n",
       "    <tr>\n",
       "      <th>freq</th>\n",
       "      <td>10</td>\n",
       "      <td>1</td>\n",
       "      <td>1</td>\n",
       "    </tr>\n",
       "  </tbody>\n",
       "</table>\n",
       "</div>"
      ],
      "text/plain": [
       "                            created_at                   id  \\\n",
       "count                               15                   15   \n",
       "unique                               2                   15   \n",
       "top     Tue Dec 22 12:08:34 +0000 2020  1341354942410342405   \n",
       "freq                                10                    1   \n",
       "\n",
       "                                                     text  \n",
       "count                                                  15  \n",
       "unique                                                 15  \n",
       "top     Hi @marenaltman I was just thinking if you wou...  \n",
       "freq                                                    1  "
      ]
     },
     "execution_count": 87,
     "metadata": {},
     "output_type": "execute_result"
    }
   ],
   "source": [
    "tweets = df\n",
    "tweets.describe()"
   ]
  },
  {
   "cell_type": "code",
   "execution_count": 88,
   "metadata": {},
   "outputs": [
    {
     "data": {
      "text/html": [
       "<div>\n",
       "<style scoped>\n",
       "    .dataframe tbody tr th:only-of-type {\n",
       "        vertical-align: middle;\n",
       "    }\n",
       "\n",
       "    .dataframe tbody tr th {\n",
       "        vertical-align: top;\n",
       "    }\n",
       "\n",
       "    .dataframe thead th {\n",
       "        text-align: right;\n",
       "    }\n",
       "</style>\n",
       "<table border=\"1\" class=\"dataframe\">\n",
       "  <thead>\n",
       "    <tr style=\"text-align: right;\">\n",
       "      <th></th>\n",
       "      <th>created_at</th>\n",
       "      <th>id</th>\n",
       "      <th>text</th>\n",
       "    </tr>\n",
       "  </thead>\n",
       "  <tbody>\n",
       "    <tr>\n",
       "      <th>0</th>\n",
       "      <td>Tue Dec 22 12:08:34 +0000 2020</td>\n",
       "      <td>1341354945250004992</td>\n",
       "      <td>RT @askmecryptos: $GRT is bouncing the hardest...</td>\n",
       "    </tr>\n",
       "    <tr>\n",
       "      <th>1</th>\n",
       "      <td>Tue Dec 22 12:08:34 +0000 2020</td>\n",
       "      <td>1341354944834777088</td>\n",
       "      <td>Hi @marenaltman I was just thinking if you wou...</td>\n",
       "    </tr>\n",
       "    <tr>\n",
       "      <th>2</th>\n",
       "      <td>Tue Dec 22 12:08:34 +0000 2020</td>\n",
       "      <td>1341354944310480897</td>\n",
       "      <td>RT @crvxxxvt: @daanegro I’m so happy for. She’...</td>\n",
       "    </tr>\n",
       "    <tr>\n",
       "      <th>3</th>\n",
       "      <td>Tue Dec 22 12:08:34 +0000 2020</td>\n",
       "      <td>1341354943555448834</td>\n",
       "      <td>@lucyLBM2020 Oooh that doesn’t sound good. Ple...</td>\n",
       "    </tr>\n",
       "    <tr>\n",
       "      <th>4</th>\n",
       "      <td>Tue Dec 22 12:08:34 +0000 2020</td>\n",
       "      <td>1341354943236730881</td>\n",
       "      <td>@CDCgov Add your phone to the COVID fight! Dow...</td>\n",
       "    </tr>\n",
       "    <tr>\n",
       "      <th>5</th>\n",
       "      <td>Tue Dec 22 12:08:34 +0000 2020</td>\n",
       "      <td>1341354943224160256</td>\n",
       "      <td>@modernbasebll Also, why didn't schools get fu...</td>\n",
       "    </tr>\n",
       "    <tr>\n",
       "      <th>6</th>\n",
       "      <td>Tue Dec 22 12:08:34 +0000 2020</td>\n",
       "      <td>1341354943056404480</td>\n",
       "      <td>RT @BarackObama: With COVID cases surging wors...</td>\n",
       "    </tr>\n",
       "    <tr>\n",
       "      <th>7</th>\n",
       "      <td>Tue Dec 22 12:08:34 +0000 2020</td>\n",
       "      <td>1341354942410342405</td>\n",
       "      <td>France Rewards Frontline COVID-19 Workers With...</td>\n",
       "    </tr>\n",
       "    <tr>\n",
       "      <th>8</th>\n",
       "      <td>Tue Dec 22 12:08:34 +0000 2020</td>\n",
       "      <td>1341354942100062210</td>\n",
       "      <td>RT @donwinslow: In this new aid deal, Employer...</td>\n",
       "    </tr>\n",
       "    <tr>\n",
       "      <th>9</th>\n",
       "      <td>Tue Dec 22 12:08:34 +0000 2020</td>\n",
       "      <td>1341354942037192707</td>\n",
       "      <td>RT @biyibjorn: Apostle Suleman just collected ...</td>\n",
       "    </tr>\n",
       "    <tr>\n",
       "      <th>10</th>\n",
       "      <td>Tue Dec 22 12:08:33 +0000 2020</td>\n",
       "      <td>1341354941747630083</td>\n",
       "      <td>Fired COVID scientist sues Florida over \"sham\"...</td>\n",
       "    </tr>\n",
       "    <tr>\n",
       "      <th>11</th>\n",
       "      <td>Tue Dec 22 12:08:33 +0000 2020</td>\n",
       "      <td>1341354941621940224</td>\n",
       "      <td>All those men in cramped space with no washing...</td>\n",
       "    </tr>\n",
       "    <tr>\n",
       "      <th>12</th>\n",
       "      <td>Tue Dec 22 12:08:33 +0000 2020</td>\n",
       "      <td>1341354941420457986</td>\n",
       "      <td>Ned should resign! Thousands in CT to get COVI...</td>\n",
       "    </tr>\n",
       "    <tr>\n",
       "      <th>13</th>\n",
       "      <td>Tue Dec 22 12:08:33 +0000 2020</td>\n",
       "      <td>1341354940653068290</td>\n",
       "      <td>RT @kylegriffin1: Mitch McConnell successfully...</td>\n",
       "    </tr>\n",
       "    <tr>\n",
       "      <th>14</th>\n",
       "      <td>Tue Dec 22 12:08:33 +0000 2020</td>\n",
       "      <td>1341354940480978944</td>\n",
       "      <td>Ned should resign! 12th Inmate Dies from COVID...</td>\n",
       "    </tr>\n",
       "  </tbody>\n",
       "</table>\n",
       "</div>"
      ],
      "text/plain": [
       "                        created_at                   id  \\\n",
       "0   Tue Dec 22 12:08:34 +0000 2020  1341354945250004992   \n",
       "1   Tue Dec 22 12:08:34 +0000 2020  1341354944834777088   \n",
       "2   Tue Dec 22 12:08:34 +0000 2020  1341354944310480897   \n",
       "3   Tue Dec 22 12:08:34 +0000 2020  1341354943555448834   \n",
       "4   Tue Dec 22 12:08:34 +0000 2020  1341354943236730881   \n",
       "5   Tue Dec 22 12:08:34 +0000 2020  1341354943224160256   \n",
       "6   Tue Dec 22 12:08:34 +0000 2020  1341354943056404480   \n",
       "7   Tue Dec 22 12:08:34 +0000 2020  1341354942410342405   \n",
       "8   Tue Dec 22 12:08:34 +0000 2020  1341354942100062210   \n",
       "9   Tue Dec 22 12:08:34 +0000 2020  1341354942037192707   \n",
       "10  Tue Dec 22 12:08:33 +0000 2020  1341354941747630083   \n",
       "11  Tue Dec 22 12:08:33 +0000 2020  1341354941621940224   \n",
       "12  Tue Dec 22 12:08:33 +0000 2020  1341354941420457986   \n",
       "13  Tue Dec 22 12:08:33 +0000 2020  1341354940653068290   \n",
       "14  Tue Dec 22 12:08:33 +0000 2020  1341354940480978944   \n",
       "\n",
       "                                                 text  \n",
       "0   RT @askmecryptos: $GRT is bouncing the hardest...  \n",
       "1   Hi @marenaltman I was just thinking if you wou...  \n",
       "2   RT @crvxxxvt: @daanegro I’m so happy for. She’...  \n",
       "3   @lucyLBM2020 Oooh that doesn’t sound good. Ple...  \n",
       "4   @CDCgov Add your phone to the COVID fight! Dow...  \n",
       "5   @modernbasebll Also, why didn't schools get fu...  \n",
       "6   RT @BarackObama: With COVID cases surging wors...  \n",
       "7   France Rewards Frontline COVID-19 Workers With...  \n",
       "8   RT @donwinslow: In this new aid deal, Employer...  \n",
       "9   RT @biyibjorn: Apostle Suleman just collected ...  \n",
       "10  Fired COVID scientist sues Florida over \"sham\"...  \n",
       "11  All those men in cramped space with no washing...  \n",
       "12  Ned should resign! Thousands in CT to get COVI...  \n",
       "13  RT @kylegriffin1: Mitch McConnell successfully...  \n",
       "14  Ned should resign! 12th Inmate Dies from COVID...  "
      ]
     },
     "execution_count": 88,
     "metadata": {},
     "output_type": "execute_result"
    }
   ],
   "source": [
    "tweets"
   ]
  }
 ],
 "metadata": {
  "celltoolbar": "Raw Cell Format",
  "kernelspec": {
   "display_name": "Python 3",
   "language": "python",
   "name": "python3"
  },
  "language_info": {
   "codemirror_mode": {
    "name": "ipython",
    "version": 3
   },
   "file_extension": ".py",
   "mimetype": "text/x-python",
   "name": "python",
   "nbconvert_exporter": "python",
   "pygments_lexer": "ipython3",
   "version": "3.9.1"
  }
 },
 "nbformat": 4,
 "nbformat_minor": 4
}