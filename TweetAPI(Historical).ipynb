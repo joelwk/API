{
 "cells": [
  {
   "cell_type": "markdown",
   "metadata": {
    "id": "8cHX8bG2xwEW"
   },
   "source": [
    "Historical Tweet API"
   ]
  },
  {
   "cell_type": "code",
   "execution_count": 65,
   "metadata": {
    "id": "EOLUa2fcxwEZ"
   },
   "outputs": [],
   "source": [
    "%config IPCompleter.greedy=True"
   ]
  },
  {
   "cell_type": "code",
   "execution_count": 1,
   "metadata": {
    "executionInfo": {
     "elapsed": 2238,
     "status": "ok",
     "timestamp": 1608747691542,
     "user": {
      "displayName": "Joel Konitzer",
      "photoUrl": "",
      "userId": "14972364576720899777"
     },
     "user_tz": 300
    },
    "id": "pCVizZccxwEa"
   },
   "outputs": [],
   "source": [
    "from datetime import datetime as dt\n",
    "from datetime import timedelta as td\n",
    "import requests\n",
    "import pandas as pd\n",
    "import base64\n",
    "import csv\n"
   ]
  },
  {
   "cell_type": "code",
   "execution_count": 2,
   "metadata": {
    "executionInfo": {
     "elapsed": 976,
     "status": "ok",
     "timestamp": 1608747794942,
     "user": {
      "displayName": "Joel Konitzer",
      "photoUrl": "",
      "userId": "14972364576720899777"
     },
     "user_tz": 300
    },
    "id": "Cn8SLnsJxwEa"
   },
   "outputs": [],
   "source": [
    "client_key = '**'\n",
    "client_secret = '**'\n",
    "BEARER_TOKEN = \"**"\n",
    "\n",
    "key_secret = '{}:{}'.format(client_key, client_secret).encode('ascii')\n",
    "b64_encoded_key = base64.b64encode(key_secret)\n",
    "b64_encoded_key = b64_encoded_key.decode('ascii')"
   ]
  },
  {
   "cell_type": "code",
   "execution_count": 3,
   "metadata": {
    "executionInfo": {
     "elapsed": 645,
     "status": "ok",
     "timestamp": 1608750774348,
     "user": {
      "displayName": "Joel Konitzer",
      "photoUrl": "",
      "userId": "14972364576720899777"
     },
     "user_tz": 300
    },
    "id": "FXMMOIXvxwEb"
   },
   "outputs": [],
   "source": [
    "endpoint = 'https://api.twitter.com/2/tweets/search/recent'\n",
    "headers = {'authorization': f'Bearer {BEARER_TOKEN}'}\n",
    "params = {\n",
    "    'query':  'bitcoin OR ETH OR LINK OR bitcoin covid OR XRP',\n",
    "    'max_results': '100',\n",
    "    'tweet.fields': 'created_at,lang'\n",
    "}"
   ]
  },
  {
   "cell_type": "code",
   "execution_count": 4,
   "metadata": {
    "executionInfo": {
     "elapsed": 592,
     "status": "ok",
     "timestamp": 1608750777248,
     "user": {
      "displayName": "Joel Konitzer",
      "photoUrl": "",
      "userId": "14972364576720899777"
     },
     "user_tz": 300
    },
    "id": "x2pt1m7qxwEb"
   },
   "outputs": [],
   "source": [
    "#Function to create dataframe of interest\n",
    "def get_data(tweet):\n",
    "    data = {\n",
    "        'id': tweet['id'],\n",
    "        'created_at': tweet['created_at'],\n",
    "        'text': tweet['text'],\n",
    "        'lang': tweet['lang']\n",
    "        \n",
    "    }\n",
    "    return data"
   ]
  },
  {
   "cell_type": "code",
   "execution_count": 14,
   "metadata": {
    "executionInfo": {
     "elapsed": 128127,
     "status": "ok",
     "timestamp": 1608750906582,
     "user": {
      "displayName": "Joel Konitzer",
      "photoUrl": "",
      "userId": "14972364576720899777"
     },
     "user_tz": 300
    },
    "id": "lqa7vsI8xwEb",
    "scrolled": true
   },
   "outputs": [],
   "source": [
    "# Gather the last 7 days of tweets\n",
    "\n",
    "dtformat = '%Y-%m-%dT%H:%M:%SZ'  # the date format string required by twitter\n",
    "\n",
    "# we use this function to subtract 60 mins from our datetime string\n",
    "def time_travel(now, mins):\n",
    "    now = dt.strptime(now, dtformat)\n",
    "    back_in_time = now - td(minutes=mins)\n",
    "    return back_in_time.strftime(dtformat)\n",
    "    \n",
    "now = dt.now()  # get the current datetime, this is our starting point\n",
    "last_week = now - td(days=7)  # datetime one week ago = the finish line\n",
    "now = now.strftime(dtformat)  # convert now datetime to format for API\n",
    "df = pd.DataFrame()  # initialize dataframe to store tweets\n",
    "while True:\n",
    "    if dt.strptime(now, dtformat) < last_week:\n",
    "        # if we have reached 7 days ago, break the loop\n",
    "        break\n",
    "    pre60 = time_travel(now, 60)  # get 60 minutes before 'now'\n",
    "    # assign from and to datetime parameters for the API\n",
    "    params['start_time'] = pre60\n",
    "    params['end_time'] = now\n",
    "    response = requests.get(endpoint,\n",
    "                            params=params,\n",
    "                            headers=headers)  # send the request\n",
    "    \n",
    "    now = pre60  # move the window 60 minutes earlier\n",
    "    # iteratively append our tweet data to our dataframe\n",
    "    if 'data' in response.json():\n",
    "        for tweet in response.json()['data']:\n",
    "            row = get_data(tweet)  # we defined this function earlier\n",
    "            df = df.append(row, ignore_index=True)"
   ]
  },
  {
   "cell_type": "code",
   "execution_count": 62,
   "metadata": {
    "executionInfo": {
     "elapsed": 501,
     "status": "ok",
     "timestamp": 1608751108358,
     "user": {
      "displayName": "Joel Konitzer",
      "photoUrl": "",
      "userId": "14972364576720899777"
     },
     "user_tz": 300
    },
    "id": "lfSkNQAQ3BRS"
   },
   "outputs": [],
   "source": [
    "# Expand columns to read entire tweet\n",
    "pd.set_option('max_colwidth', None)"
   ]
  },
  {
   "cell_type": "code",
   "execution_count": 15,
   "metadata": {},
   "outputs": [
    {
     "data": {
      "text/html": [
       "<div>\n",
       "<style scoped>\n",
       "    .dataframe tbody tr th:only-of-type {\n",
       "        vertical-align: middle;\n",
       "    }\n",
       "\n",
       "    .dataframe tbody tr th {\n",
       "        vertical-align: top;\n",
       "    }\n",
       "\n",
       "    .dataframe thead th {\n",
       "        text-align: right;\n",
       "    }\n",
       "</style>\n",
       "<table border=\"1\" class=\"dataframe\">\n",
       "  <thead>\n",
       "    <tr style=\"text-align: right;\">\n",
       "      <th></th>\n",
       "      <th>created_at</th>\n",
       "      <th>id</th>\n",
       "      <th>lang</th>\n",
       "      <th>text</th>\n",
       "    </tr>\n",
       "  </thead>\n",
       "  <tbody>\n",
       "    <tr>\n",
       "      <th>0</th>\n",
       "      <td>2021-01-03T19:20:59.000Z</td>\n",
       "      <td>1345812421676576768</td>\n",
       "      <td>en</td>\n",
       "      <td>@MKBHD Step 2: buy $ETH sub $1k\\n\\nStep 3: out...</td>\n",
       "    </tr>\n",
       "    <tr>\n",
       "      <th>1</th>\n",
       "      <td>2021-01-03T19:20:59.000Z</td>\n",
       "      <td>1345812421600940032</td>\n",
       "      <td>en</td>\n",
       "      <td>RT @Naturalmed777: I think $XRP $XLM are bigge...</td>\n",
       "    </tr>\n",
       "    <tr>\n",
       "      <th>2</th>\n",
       "      <td>2021-01-03T19:20:59.000Z</td>\n",
       "      <td>1345812421584285698</td>\n",
       "      <td>en</td>\n",
       "      <td>RT @Sheresed69: New toy 😍😍 subscribe to my onl...</td>\n",
       "    </tr>\n",
       "    <tr>\n",
       "      <th>3</th>\n",
       "      <td>2021-01-03T19:20:59.000Z</td>\n",
       "      <td>1345812420955144197</td>\n",
       "      <td>en</td>\n",
       "      <td>RT @TokenGoodGuy0: .\\n#Digibyte $dgb likely to...</td>\n",
       "    </tr>\n",
       "    <tr>\n",
       "      <th>4</th>\n",
       "      <td>2021-01-03T19:20:59.000Z</td>\n",
       "      <td>1345812420783206401</td>\n",
       "      <td>en</td>\n",
       "      <td>RT @nixtetic: I use my comp. for remote and co...</td>\n",
       "    </tr>\n",
       "    <tr>\n",
       "      <th>...</th>\n",
       "      <td>...</td>\n",
       "      <td>...</td>\n",
       "      <td>...</td>\n",
       "      <td>...</td>\n",
       "    </tr>\n",
       "    <tr>\n",
       "      <th>16030</th>\n",
       "      <td>2020-12-28T02:20:51.000Z</td>\n",
       "      <td>1343381368848322562</td>\n",
       "      <td>th</td>\n",
       "      <td>RT @tammtamp: เออ นั่งอ่านคอมเม้น character de...</td>\n",
       "    </tr>\n",
       "    <tr>\n",
       "      <th>16031</th>\n",
       "      <td>2020-12-28T02:20:51.000Z</td>\n",
       "      <td>1343381368571617287</td>\n",
       "      <td>en</td>\n",
       "      <td>@worldsapartlive send link when ur done Lol</td>\n",
       "    </tr>\n",
       "    <tr>\n",
       "      <th>16032</th>\n",
       "      <td>2020-12-28T02:20:51.000Z</td>\n",
       "      <td>1343381368315764737</td>\n",
       "      <td>es</td>\n",
       "      <td>RT @PBOPeru: Mira el #video desde el #link\\n\\n...</td>\n",
       "    </tr>\n",
       "    <tr>\n",
       "      <th>16033</th>\n",
       "      <td>2020-12-28T02:20:51.000Z</td>\n",
       "      <td>1343381368299008000</td>\n",
       "      <td>en</td>\n",
       "      <td>@nugmob Lol yea I still haven’t got around to ...</td>\n",
       "    </tr>\n",
       "    <tr>\n",
       "      <th>16034</th>\n",
       "      <td>2020-12-28T02:20:51.000Z</td>\n",
       "      <td>1343381368290471937</td>\n",
       "      <td>ja</td>\n",
       "      <td>ランク(主は超高速やりたいです)  #プロスピA  #ミラティブ で #配信 中！  htt...</td>\n",
       "    </tr>\n",
       "  </tbody>\n",
       "</table>\n",
       "<p>16035 rows × 4 columns</p>\n",
       "</div>"
      ],
      "text/plain": [
       "                     created_at                   id lang  \\\n",
       "0      2021-01-03T19:20:59.000Z  1345812421676576768   en   \n",
       "1      2021-01-03T19:20:59.000Z  1345812421600940032   en   \n",
       "2      2021-01-03T19:20:59.000Z  1345812421584285698   en   \n",
       "3      2021-01-03T19:20:59.000Z  1345812420955144197   en   \n",
       "4      2021-01-03T19:20:59.000Z  1345812420783206401   en   \n",
       "...                         ...                  ...  ...   \n",
       "16030  2020-12-28T02:20:51.000Z  1343381368848322562   th   \n",
       "16031  2020-12-28T02:20:51.000Z  1343381368571617287   en   \n",
       "16032  2020-12-28T02:20:51.000Z  1343381368315764737   es   \n",
       "16033  2020-12-28T02:20:51.000Z  1343381368299008000   en   \n",
       "16034  2020-12-28T02:20:51.000Z  1343381368290471937   ja   \n",
       "\n",
       "                                                    text  \n",
       "0      @MKBHD Step 2: buy $ETH sub $1k\\n\\nStep 3: out...  \n",
       "1      RT @Naturalmed777: I think $XRP $XLM are bigge...  \n",
       "2      RT @Sheresed69: New toy 😍😍 subscribe to my onl...  \n",
       "3      RT @TokenGoodGuy0: .\\n#Digibyte $dgb likely to...  \n",
       "4      RT @nixtetic: I use my comp. for remote and co...  \n",
       "...                                                  ...  \n",
       "16030  RT @tammtamp: เออ นั่งอ่านคอมเม้น character de...  \n",
       "16031        @worldsapartlive send link when ur done Lol  \n",
       "16032  RT @PBOPeru: Mira el #video desde el #link\\n\\n...  \n",
       "16033  @nugmob Lol yea I still haven’t got around to ...  \n",
       "16034  ランク(主は超高速やりたいです)  #プロスピA  #ミラティブ で #配信 中！  htt...  \n",
       "\n",
       "[16035 rows x 4 columns]"
      ]
     },
     "execution_count": 15,
     "metadata": {},
     "output_type": "execute_result"
    }
   ],
   "source": [
    "df"
   ]
  },
  {
   "cell_type": "code",
   "execution_count": 17,
   "metadata": {
    "colab": {
     "base_uri": "https://localhost:8080/",
     "height": 289
    },
    "executionInfo": {
     "elapsed": 567,
     "status": "ok",
     "timestamp": 1608751109693,
     "user": {
      "displayName": "Joel Konitzer",
      "photoUrl": "",
      "userId": "14972364576720899777"
     },
     "user_tz": 300
    },
    "id": "9oXlPHHT255P",
    "outputId": "ef993411-c0f6-48a0-897e-c95bf9590cbd"
   },
   "outputs": [],
   "source": [
    "#Filter out any rows that are not english\n",
    "data = df[df[\"lang\"] == 'en']"
   ]
  },
  {
   "cell_type": "code",
   "execution_count": 19,
   "metadata": {},
   "outputs": [
    {
     "data": {
      "text/html": [
       "<div>\n",
       "<style scoped>\n",
       "    .dataframe tbody tr th:only-of-type {\n",
       "        vertical-align: middle;\n",
       "    }\n",
       "\n",
       "    .dataframe tbody tr th {\n",
       "        vertical-align: top;\n",
       "    }\n",
       "\n",
       "    .dataframe thead th {\n",
       "        text-align: right;\n",
       "    }\n",
       "</style>\n",
       "<table border=\"1\" class=\"dataframe\">\n",
       "  <thead>\n",
       "    <tr style=\"text-align: right;\">\n",
       "      <th></th>\n",
       "      <th>created_at</th>\n",
       "      <th>id</th>\n",
       "      <th>lang</th>\n",
       "      <th>text</th>\n",
       "    </tr>\n",
       "  </thead>\n",
       "  <tbody>\n",
       "    <tr>\n",
       "      <th>0</th>\n",
       "      <td>2021-01-03T19:20:59.000Z</td>\n",
       "      <td>1345812421676576768</td>\n",
       "      <td>en</td>\n",
       "      <td>@MKBHD Step 2: buy $ETH sub $1k\\n\\nStep 3: out...</td>\n",
       "    </tr>\n",
       "    <tr>\n",
       "      <th>1</th>\n",
       "      <td>2021-01-03T19:20:59.000Z</td>\n",
       "      <td>1345812421600940032</td>\n",
       "      <td>en</td>\n",
       "      <td>RT @Naturalmed777: I think $XRP $XLM are bigge...</td>\n",
       "    </tr>\n",
       "    <tr>\n",
       "      <th>2</th>\n",
       "      <td>2021-01-03T19:20:59.000Z</td>\n",
       "      <td>1345812421584285698</td>\n",
       "      <td>en</td>\n",
       "      <td>RT @Sheresed69: New toy 😍😍 subscribe to my onl...</td>\n",
       "    </tr>\n",
       "    <tr>\n",
       "      <th>3</th>\n",
       "      <td>2021-01-03T19:20:59.000Z</td>\n",
       "      <td>1345812420955144197</td>\n",
       "      <td>en</td>\n",
       "      <td>RT @TokenGoodGuy0: .\\n#Digibyte $dgb likely to...</td>\n",
       "    </tr>\n",
       "    <tr>\n",
       "      <th>4</th>\n",
       "      <td>2021-01-03T19:20:59.000Z</td>\n",
       "      <td>1345812420783206401</td>\n",
       "      <td>en</td>\n",
       "      <td>RT @nixtetic: I use my comp. for remote and co...</td>\n",
       "    </tr>\n",
       "    <tr>\n",
       "      <th>...</th>\n",
       "      <td>...</td>\n",
       "      <td>...</td>\n",
       "      <td>...</td>\n",
       "      <td>...</td>\n",
       "    </tr>\n",
       "    <tr>\n",
       "      <th>16026</th>\n",
       "      <td>2020-12-28T02:20:52.000Z</td>\n",
       "      <td>1343381371616514048</td>\n",
       "      <td>en</td>\n",
       "      <td>RT @tellor_token: Tellor Token🌲 Airdrop\\n\\n💖Fo...</td>\n",
       "    </tr>\n",
       "    <tr>\n",
       "      <th>16027</th>\n",
       "      <td>2020-12-28T02:20:52.000Z</td>\n",
       "      <td>1343381370928848902</td>\n",
       "      <td>en</td>\n",
       "      <td>RT @POCG9: Trump signs Bill but promised more ...</td>\n",
       "    </tr>\n",
       "    <tr>\n",
       "      <th>16029</th>\n",
       "      <td>2020-12-28T02:20:51.000Z</td>\n",
       "      <td>1343381368915443713</td>\n",
       "      <td>en</td>\n",
       "      <td>RT @cryptoo_moon: #BITCOIN ALL TIME HIGH \\n#XR...</td>\n",
       "    </tr>\n",
       "    <tr>\n",
       "      <th>16031</th>\n",
       "      <td>2020-12-28T02:20:51.000Z</td>\n",
       "      <td>1343381368571617287</td>\n",
       "      <td>en</td>\n",
       "      <td>@worldsapartlive send link when ur done Lol</td>\n",
       "    </tr>\n",
       "    <tr>\n",
       "      <th>16033</th>\n",
       "      <td>2020-12-28T02:20:51.000Z</td>\n",
       "      <td>1343381368299008000</td>\n",
       "      <td>en</td>\n",
       "      <td>@nugmob Lol yea I still haven’t got around to ...</td>\n",
       "    </tr>\n",
       "  </tbody>\n",
       "</table>\n",
       "<p>11184 rows × 4 columns</p>\n",
       "</div>"
      ],
      "text/plain": [
       "                     created_at                   id lang  \\\n",
       "0      2021-01-03T19:20:59.000Z  1345812421676576768   en   \n",
       "1      2021-01-03T19:20:59.000Z  1345812421600940032   en   \n",
       "2      2021-01-03T19:20:59.000Z  1345812421584285698   en   \n",
       "3      2021-01-03T19:20:59.000Z  1345812420955144197   en   \n",
       "4      2021-01-03T19:20:59.000Z  1345812420783206401   en   \n",
       "...                         ...                  ...  ...   \n",
       "16026  2020-12-28T02:20:52.000Z  1343381371616514048   en   \n",
       "16027  2020-12-28T02:20:52.000Z  1343381370928848902   en   \n",
       "16029  2020-12-28T02:20:51.000Z  1343381368915443713   en   \n",
       "16031  2020-12-28T02:20:51.000Z  1343381368571617287   en   \n",
       "16033  2020-12-28T02:20:51.000Z  1343381368299008000   en   \n",
       "\n",
       "                                                    text  \n",
       "0      @MKBHD Step 2: buy $ETH sub $1k\\n\\nStep 3: out...  \n",
       "1      RT @Naturalmed777: I think $XRP $XLM are bigge...  \n",
       "2      RT @Sheresed69: New toy 😍😍 subscribe to my onl...  \n",
       "3      RT @TokenGoodGuy0: .\\n#Digibyte $dgb likely to...  \n",
       "4      RT @nixtetic: I use my comp. for remote and co...  \n",
       "...                                                  ...  \n",
       "16026  RT @tellor_token: Tellor Token🌲 Airdrop\\n\\n💖Fo...  \n",
       "16027  RT @POCG9: Trump signs Bill but promised more ...  \n",
       "16029  RT @cryptoo_moon: #BITCOIN ALL TIME HIGH \\n#XR...  \n",
       "16031        @worldsapartlive send link when ur done Lol  \n",
       "16033  @nugmob Lol yea I still haven’t got around to ...  \n",
       "\n",
       "[11184 rows x 4 columns]"
      ]
     },
     "execution_count": 19,
     "metadata": {},
     "output_type": "execute_result"
    }
   ],
   "source": [
    "data"
   ]
  },
  {
   "cell_type": "code",
   "execution_count": 21,
   "metadata": {
    "executionInfo": {
     "elapsed": 759,
     "status": "ok",
     "timestamp": 1608751342038,
     "user": {
      "displayName": "Joel Konitzer",
      "photoUrl": "",
      "userId": "14972364576720899777"
     },
     "user_tz": 300
    },
    "id": "WbUfCLAIxwEc"
   },
   "outputs": [],
   "source": [
    "data.to_csv('7DayTwitter_BitCoin.csv', index = False)"
   ]
  },
  {
   "cell_type": "code",
   "execution_count": null,
   "metadata": {},
   "outputs": [],
   "source": []
  }
 ],
 "metadata": {
  "colab": {
   "collapsed_sections": [],
   "name": "TweetAPI(Historical).ipynb",
   "provenance": []
  },
  "kernelspec": {
   "display_name": "Python 3",
   "language": "python",
   "name": "python3"
  },
  "language_info": {
   "codemirror_mode": {
    "name": "ipython",
    "version": 3
   },
   "file_extension": ".py",
   "mimetype": "text/x-python",
   "name": "python",
   "nbconvert_exporter": "python",
   "pygments_lexer": "ipython3",
   "version": "3.9.1"
  }
 },
 "nbformat": 4,
 "nbformat_minor": 4
}
