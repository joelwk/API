{
 "cells": [
  {
   "cell_type": "markdown",
   "metadata": {
    "id": "8cHX8bG2xwEW"
   },
   "source": [
    "Historical Tweet API"
   ]
  },
  {
   "cell_type": "code",
   "execution_count": 1,
   "metadata": {
    "id": "EOLUa2fcxwEZ"
   },
   "outputs": [],
   "source": [
    "%config IPCompleter.greedy=True"
   ]
  },
  {
   "cell_type": "code",
   "execution_count": 2,
   "metadata": {
    "executionInfo": {
     "elapsed": 2238,
     "status": "ok",
     "timestamp": 1608747691542,
     "user": {
      "displayName": "Joel Konitzer",
      "photoUrl": "",
      "userId": "14972364576720899777"
     },
     "user_tz": 300
    },
    "id": "pCVizZccxwEa"
   },
   "outputs": [],
   "source": [
    "from datetime import datetime as dt\n",
    "from datetime import timedelta as td\n",
    "import requests\n",
    "import pandas as pd\n",
    "import base64\n",
    "import csv"
   ]
  },
  {
   "cell_type": "code",
   "execution_count": 3,
   "metadata": {
    "executionInfo": {
     "elapsed": 976,
     "status": "ok",
     "timestamp": 1608747794942,
     "user": {
      "displayName": "Joel Konitzer",
      "photoUrl": "",
      "userId": "14972364576720899777"
     },
     "user_tz": 300
    },
    "id": "Cn8SLnsJxwEa"
   },
   "outputs": [],
   "source": [
    "client_key = ''\n",
    "client_secret = ''\n",
    "BEARER_TOKEN = \"\"\n",
    "\n",
    "key_secret = '{}:{}'.format(client_key, client_secret).encode('ascii')\n",
    "b64_encoded_key = base64.b64encode(key_secret)\n",
    "b64_encoded_key = b64_encoded_key.decode('ascii')"
   ]
  },
  {
   "cell_type": "code",
   "execution_count": 4,
   "metadata": {
    "executionInfo": {
     "elapsed": 645,
     "status": "ok",
     "timestamp": 1608750774348,
     "user": {
      "displayName": "Joel Konitzer",
      "photoUrl": "",
      "userId": "14972364576720899777"
     },
     "user_tz": 300
    },
    "id": "FXMMOIXvxwEb"
   },
   "outputs": [],
   "source": [
    "endpoint = 'https://api.twitter.com/2/tweets/search/recent'\n",
    "headers = {'authorization': f'Bearer {BEARER_TOKEN}'}\n",
    "params = {\n",
    "    'query':  'covid OR bitcoin OR cryptocurrency',\n",
    "    'max_results': '100',\n",
    "    'tweet.fields': 'created_at,lang'\n",
    "}\n",
    "\n",
    "#'bitcoin OR ETH OR LINK OR bitcoin covid OR XRP'"
   ]
  },
  {
   "cell_type": "code",
   "execution_count": 5,
   "metadata": {
    "executionInfo": {
     "elapsed": 592,
     "status": "ok",
     "timestamp": 1608750777248,
     "user": {
      "displayName": "Joel Konitzer",
      "photoUrl": "",
      "userId": "14972364576720899777"
     },
     "user_tz": 300
    },
    "id": "x2pt1m7qxwEb"
   },
   "outputs": [],
   "source": [
    "#Function to create dataframe of interest\n",
    "def get_data(tweet):\n",
    "    data = {\n",
    "        'id': tweet['id'],\n",
    "        'created_at': tweet['created_at'],\n",
    "        'text': tweet['text'],\n",
    "        'lang': tweet['lang']\n",
    "        \n",
    "    }\n",
    "    return data"
   ]
  },
  {
   "cell_type": "code",
   "execution_count": 6,
   "metadata": {
    "executionInfo": {
     "elapsed": 128127,
     "status": "ok",
     "timestamp": 1608750906582,
     "user": {
      "displayName": "Joel Konitzer",
      "photoUrl": "",
      "userId": "14972364576720899777"
     },
     "user_tz": 300
    },
    "id": "lqa7vsI8xwEb",
    "scrolled": true
   },
   "outputs": [],
   "source": [
    "# Gather the last 7 days of tweets\n",
    "\n",
    "dtformat = '%Y-%m-%dT%H:%M:%SZ'  # the date format string required by twitter\n",
    "\n",
    "# we use this function to subtract 60 mins from our datetime string\n",
    "def time_travel(now, mins):\n",
    "    now = dt.strptime(now, dtformat)\n",
    "    back_in_time = now - td(minutes=mins)\n",
    "    return back_in_time.strftime(dtformat)\n",
    "    \n",
    "now = dt.now()  # get the current datetime, this is our starting point\n",
    "last_week = now - td(days=7)  # datetime one week ago = the finish line\n",
    "now = now.strftime(dtformat)  # convert now datetime to format for API\n",
    "df = pd.DataFrame()  # initialize dataframe to store tweets\n",
    "while True:\n",
    "    if dt.strptime(now, dtformat) < last_week:\n",
    "        # if we have reached 7 days ago, break the loop\n",
    "        break\n",
    "    pre60 = time_travel(now, 60)  # get 60 minutes before 'now'\n",
    "    # assign from and to datetime parameters for the API\n",
    "    params['start_time'] = pre60\n",
    "    params['end_time'] = now\n",
    "    response = requests.get(endpoint,\n",
    "                            params=params,\n",
    "                            headers=headers)  # send the request\n",
    "    \n",
    "    now = pre60  # move the window 60 minutes earlier\n",
    "    # iteratively append our tweet data to our dataframe\n",
    "    if 'data' in response.json():\n",
    "        for tweet in response.json()['data']:\n",
    "            row = get_data(tweet)  # we defined this function earlier\n",
    "            df = df.append(row, ignore_index=True)"
   ]
  },
  {
   "cell_type": "code",
   "execution_count": 7,
   "metadata": {
    "executionInfo": {
     "elapsed": 501,
     "status": "ok",
     "timestamp": 1608751108358,
     "user": {
      "displayName": "Joel Konitzer",
      "photoUrl": "",
      "userId": "14972364576720899777"
     },
     "user_tz": 300
    },
    "id": "lfSkNQAQ3BRS"
   },
   "outputs": [],
   "source": [
    "# Expand columns to read entire tweet\n",
    "pd.set_option('max_colwidth', None)"
   ]
  },
  {
   "cell_type": "code",
   "execution_count": 8,
   "metadata": {},
   "outputs": [
    {
     "data": {
      "text/html": [
       "<div>\n",
       "<style scoped>\n",
       "    .dataframe tbody tr th:only-of-type {\n",
       "        vertical-align: middle;\n",
       "    }\n",
       "\n",
       "    .dataframe tbody tr th {\n",
       "        vertical-align: top;\n",
       "    }\n",
       "\n",
       "    .dataframe thead th {\n",
       "        text-align: right;\n",
       "    }\n",
       "</style>\n",
       "<table border=\"1\" class=\"dataframe\">\n",
       "  <thead>\n",
       "    <tr style=\"text-align: right;\">\n",
       "      <th></th>\n",
       "      <th>created_at</th>\n",
       "      <th>id</th>\n",
       "      <th>lang</th>\n",
       "      <th>text</th>\n",
       "    </tr>\n",
       "  </thead>\n",
       "  <tbody>\n",
       "    <tr>\n",
       "      <th>0</th>\n",
       "      <td>2021-01-14T20:15:39.000Z</td>\n",
       "      <td>1349812445620015106</td>\n",
       "      <td>en</td>\n",
       "      <td>RT @Oahu_DEM: Did you know that a CDC model found that 59% of COVID-19 transmission came from people WITHOUT symptoms, either from before t…</td>\n",
       "    </tr>\n",
       "    <tr>\n",
       "      <th>1</th>\n",
       "      <td>2021-01-14T20:15:39.000Z</td>\n",
       "      <td>1349812445569835008</td>\n",
       "      <td>pt</td>\n",
       "      <td>@ZeSimoes1 @NCarvalho_Br @CarlaZambelli38 @fiocruz @govbr Vou postar aqui... Para reforçar minha opinião.\\n\\nhttps://t.co/f3XCPCsf8e</td>\n",
       "    </tr>\n",
       "    <tr>\n",
       "      <th>2</th>\n",
       "      <td>2021-01-14T20:15:39.000Z</td>\n",
       "      <td>1349812445569802240</td>\n",
       "      <td>es</td>\n",
       "      <td>RT @CZGNBLaGuaira: Buenos días pueblo aragueño, la .@GNB_Aragua se mantiene desplegada velando por la seguridad de la población y recordand…</td>\n",
       "    </tr>\n",
       "    <tr>\n",
       "      <th>3</th>\n",
       "      <td>2021-01-14T20:15:39.000Z</td>\n",
       "      <td>1349812445540442112</td>\n",
       "      <td>en</td>\n",
       "      <td>RT @NeilDotObrien: As the UK tragically hits a record number of Covid-19 deaths, Covid-sceptic-in-chief @toadmeister appears to have delete…</td>\n",
       "    </tr>\n",
       "    <tr>\n",
       "      <th>4</th>\n",
       "      <td>2021-01-14T20:15:39.000Z</td>\n",
       "      <td>1349812445536202768</td>\n",
       "      <td>en</td>\n",
       "      <td>RT @LegionHoops: Nets GM Sean Marks says that Kyrie Irving is “excited” to return, and has been testing for COVID-19 daily.</td>\n",
       "    </tr>\n",
       "    <tr>\n",
       "      <th>...</th>\n",
       "      <td>...</td>\n",
       "      <td>...</td>\n",
       "      <td>...</td>\n",
       "      <td>...</td>\n",
       "    </tr>\n",
       "    <tr>\n",
       "      <th>16008</th>\n",
       "      <td>2021-01-08T03:15:35.000Z</td>\n",
       "      <td>1347381409355231234</td>\n",
       "      <td>en</td>\n",
       "      <td>@joebob2020bb If it wasn’t COVID, Trump would have won.</td>\n",
       "    </tr>\n",
       "    <tr>\n",
       "      <th>16009</th>\n",
       "      <td>2021-01-08T03:15:35.000Z</td>\n",
       "      <td>1347381409271468035</td>\n",
       "      <td>en</td>\n",
       "      <td>RT @SethAbramson: 4,134 dead of COVID-19 today. The worst day of the pandemic. The second-worst day was yesterday (4,100). Incredible to th…</td>\n",
       "    </tr>\n",
       "    <tr>\n",
       "      <th>16010</th>\n",
       "      <td>2021-01-08T03:15:35.000Z</td>\n",
       "      <td>1347381408868786176</td>\n",
       "      <td>en</td>\n",
       "      <td>RT @BURNERBBABBY: Pre covid New York was a movie https://t.co/PtcaePsBvA</td>\n",
       "    </tr>\n",
       "    <tr>\n",
       "      <th>16011</th>\n",
       "      <td>2021-01-08T03:15:35.000Z</td>\n",
       "      <td>1347381408839442438</td>\n",
       "      <td>es</td>\n",
       "      <td>RT @RiveraNat: Mi mamá y yo dimos positivo para covid-19 han sido los días más difíciles de mi vida. Tener que batallar contra este monstru…</td>\n",
       "    </tr>\n",
       "    <tr>\n",
       "      <th>16012</th>\n",
       "      <td>2021-01-08T03:15:35.000Z</td>\n",
       "      <td>1347381408583610369</td>\n",
       "      <td>es</td>\n",
       "      <td>RT @eldesconcierto: Cámara aprueba informe que responsabiliza a Mañalich de «entregar información errónea» sobre decesos Covid-19 \\n➡️https:…</td>\n",
       "    </tr>\n",
       "  </tbody>\n",
       "</table>\n",
       "<p>16013 rows × 4 columns</p>\n",
       "</div>"
      ],
      "text/plain": [
       "                     created_at                   id lang  \\\n",
       "0      2021-01-14T20:15:39.000Z  1349812445620015106   en   \n",
       "1      2021-01-14T20:15:39.000Z  1349812445569835008   pt   \n",
       "2      2021-01-14T20:15:39.000Z  1349812445569802240   es   \n",
       "3      2021-01-14T20:15:39.000Z  1349812445540442112   en   \n",
       "4      2021-01-14T20:15:39.000Z  1349812445536202768   en   \n",
       "...                         ...                  ...  ...   \n",
       "16008  2021-01-08T03:15:35.000Z  1347381409355231234   en   \n",
       "16009  2021-01-08T03:15:35.000Z  1347381409271468035   en   \n",
       "16010  2021-01-08T03:15:35.000Z  1347381408868786176   en   \n",
       "16011  2021-01-08T03:15:35.000Z  1347381408839442438   es   \n",
       "16012  2021-01-08T03:15:35.000Z  1347381408583610369   es   \n",
       "\n",
       "                                                                                                                                                text  \n",
       "0       RT @Oahu_DEM: Did you know that a CDC model found that 59% of COVID-19 transmission came from people WITHOUT symptoms, either from before t…  \n",
       "1               @ZeSimoes1 @NCarvalho_Br @CarlaZambelli38 @fiocruz @govbr Vou postar aqui... Para reforçar minha opinião.\\n\\nhttps://t.co/f3XCPCsf8e  \n",
       "2       RT @CZGNBLaGuaira: Buenos días pueblo aragueño, la .@GNB_Aragua se mantiene desplegada velando por la seguridad de la población y recordand…  \n",
       "3       RT @NeilDotObrien: As the UK tragically hits a record number of Covid-19 deaths, Covid-sceptic-in-chief @toadmeister appears to have delete…  \n",
       "4                        RT @LegionHoops: Nets GM Sean Marks says that Kyrie Irving is “excited” to return, and has been testing for COVID-19 daily.  \n",
       "...                                                                                                                                              ...  \n",
       "16008                                                                                        @joebob2020bb If it wasn’t COVID, Trump would have won.  \n",
       "16009   RT @SethAbramson: 4,134 dead of COVID-19 today. The worst day of the pandemic. The second-worst day was yesterday (4,100). Incredible to th…  \n",
       "16010                                                                       RT @BURNERBBABBY: Pre covid New York was a movie https://t.co/PtcaePsBvA  \n",
       "16011   RT @RiveraNat: Mi mamá y yo dimos positivo para covid-19 han sido los días más difíciles de mi vida. Tener que batallar contra este monstru…  \n",
       "16012  RT @eldesconcierto: Cámara aprueba informe que responsabiliza a Mañalich de «entregar información errónea» sobre decesos Covid-19 \\n➡️https:…  \n",
       "\n",
       "[16013 rows x 4 columns]"
      ]
     },
     "execution_count": 8,
     "metadata": {},
     "output_type": "execute_result"
    }
   ],
   "source": [
    "df"
   ]
  },
  {
   "cell_type": "code",
   "execution_count": 9,
   "metadata": {
    "colab": {
     "base_uri": "https://localhost:8080/",
     "height": 289
    },
    "executionInfo": {
     "elapsed": 567,
     "status": "ok",
     "timestamp": 1608751109693,
     "user": {
      "displayName": "Joel Konitzer",
      "photoUrl": "",
      "userId": "14972364576720899777"
     },
     "user_tz": 300
    },
    "id": "9oXlPHHT255P",
    "outputId": "ef993411-c0f6-48a0-897e-c95bf9590cbd"
   },
   "outputs": [],
   "source": [
    "#Filter out any rows that are not english\n",
    "data = df[df[\"lang\"] == 'en']"
   ]
  },
  {
   "cell_type": "code",
   "execution_count": 10,
   "metadata": {},
   "outputs": [
    {
     "data": {
      "text/html": [
       "<div>\n",
       "<style scoped>\n",
       "    .dataframe tbody tr th:only-of-type {\n",
       "        vertical-align: middle;\n",
       "    }\n",
       "\n",
       "    .dataframe tbody tr th {\n",
       "        vertical-align: top;\n",
       "    }\n",
       "\n",
       "    .dataframe thead th {\n",
       "        text-align: right;\n",
       "    }\n",
       "</style>\n",
       "<table border=\"1\" class=\"dataframe\">\n",
       "  <thead>\n",
       "    <tr style=\"text-align: right;\">\n",
       "      <th></th>\n",
       "      <th>created_at</th>\n",
       "      <th>id</th>\n",
       "      <th>lang</th>\n",
       "      <th>text</th>\n",
       "    </tr>\n",
       "  </thead>\n",
       "  <tbody>\n",
       "    <tr>\n",
       "      <th>0</th>\n",
       "      <td>2021-01-14T20:15:39.000Z</td>\n",
       "      <td>1349812445620015106</td>\n",
       "      <td>en</td>\n",
       "      <td>RT @Oahu_DEM: Did you know that a CDC model found that 59% of COVID-19 transmission came from people WITHOUT symptoms, either from before t…</td>\n",
       "    </tr>\n",
       "    <tr>\n",
       "      <th>3</th>\n",
       "      <td>2021-01-14T20:15:39.000Z</td>\n",
       "      <td>1349812445540442112</td>\n",
       "      <td>en</td>\n",
       "      <td>RT @NeilDotObrien: As the UK tragically hits a record number of Covid-19 deaths, Covid-sceptic-in-chief @toadmeister appears to have delete…</td>\n",
       "    </tr>\n",
       "    <tr>\n",
       "      <th>4</th>\n",
       "      <td>2021-01-14T20:15:39.000Z</td>\n",
       "      <td>1349812445536202768</td>\n",
       "      <td>en</td>\n",
       "      <td>RT @LegionHoops: Nets GM Sean Marks says that Kyrie Irving is “excited” to return, and has been testing for COVID-19 daily.</td>\n",
       "    </tr>\n",
       "    <tr>\n",
       "      <th>6</th>\n",
       "      <td>2021-01-14T20:15:39.000Z</td>\n",
       "      <td>1349812444806471682</td>\n",
       "      <td>en</td>\n",
       "      <td>RT @PHE_uk: Due to a processing issue with deaths data the #COVID19 Dashboard update is delayed today.\\n\\n48,682 new COVID-19 positive cases…</td>\n",
       "    </tr>\n",
       "    <tr>\n",
       "      <th>9</th>\n",
       "      <td>2021-01-14T20:15:39.000Z</td>\n",
       "      <td>1349812444340887555</td>\n",
       "      <td>en</td>\n",
       "      <td>Record daily #German #COVID-19 deaths spark #Merkel 'mega-lockdown' plan: Bild https://t.co/GSCjjYcW9c #COVID19 #CovidVaccine #coronavirus</td>\n",
       "    </tr>\n",
       "    <tr>\n",
       "      <th>...</th>\n",
       "      <td>...</td>\n",
       "      <td>...</td>\n",
       "      <td>...</td>\n",
       "      <td>...</td>\n",
       "    </tr>\n",
       "    <tr>\n",
       "      <th>16006</th>\n",
       "      <td>2021-01-08T03:15:35.000Z</td>\n",
       "      <td>1347381409577455616</td>\n",
       "      <td>en</td>\n",
       "      <td>@NeveltenJohn @greggnunziata At every turn when Trump could have abused his power he didn’t. He words were harsh, loud, mean and sometimes hurtful. His actions were not. He could have use this Covid thing to grab power like Democrats did. Instead he resisted. You have been deceived by media.</td>\n",
       "    </tr>\n",
       "    <tr>\n",
       "      <th>16007</th>\n",
       "      <td>2021-01-08T03:15:35.000Z</td>\n",
       "      <td>1347381409384718337</td>\n",
       "      <td>en</td>\n",
       "      <td>RT @barstoolsports: The Covid Stimulus Bill Requires the Pentagon to Tell Us What it Knows About UFOs https://t.co/m78iCRxqj0 https://t.co/…</td>\n",
       "    </tr>\n",
       "    <tr>\n",
       "      <th>16008</th>\n",
       "      <td>2021-01-08T03:15:35.000Z</td>\n",
       "      <td>1347381409355231234</td>\n",
       "      <td>en</td>\n",
       "      <td>@joebob2020bb If it wasn’t COVID, Trump would have won.</td>\n",
       "    </tr>\n",
       "    <tr>\n",
       "      <th>16009</th>\n",
       "      <td>2021-01-08T03:15:35.000Z</td>\n",
       "      <td>1347381409271468035</td>\n",
       "      <td>en</td>\n",
       "      <td>RT @SethAbramson: 4,134 dead of COVID-19 today. The worst day of the pandemic. The second-worst day was yesterday (4,100). Incredible to th…</td>\n",
       "    </tr>\n",
       "    <tr>\n",
       "      <th>16010</th>\n",
       "      <td>2021-01-08T03:15:35.000Z</td>\n",
       "      <td>1347381408868786176</td>\n",
       "      <td>en</td>\n",
       "      <td>RT @BURNERBBABBY: Pre covid New York was a movie https://t.co/PtcaePsBvA</td>\n",
       "    </tr>\n",
       "  </tbody>\n",
       "</table>\n",
       "<p>9280 rows × 4 columns</p>\n",
       "</div>"
      ],
      "text/plain": [
       "                     created_at                   id lang  \\\n",
       "0      2021-01-14T20:15:39.000Z  1349812445620015106   en   \n",
       "3      2021-01-14T20:15:39.000Z  1349812445540442112   en   \n",
       "4      2021-01-14T20:15:39.000Z  1349812445536202768   en   \n",
       "6      2021-01-14T20:15:39.000Z  1349812444806471682   en   \n",
       "9      2021-01-14T20:15:39.000Z  1349812444340887555   en   \n",
       "...                         ...                  ...  ...   \n",
       "16006  2021-01-08T03:15:35.000Z  1347381409577455616   en   \n",
       "16007  2021-01-08T03:15:35.000Z  1347381409384718337   en   \n",
       "16008  2021-01-08T03:15:35.000Z  1347381409355231234   en   \n",
       "16009  2021-01-08T03:15:35.000Z  1347381409271468035   en   \n",
       "16010  2021-01-08T03:15:35.000Z  1347381408868786176   en   \n",
       "\n",
       "                                                                                                                                                                                                                                                                                                       text  \n",
       "0                                                                                                                                                              RT @Oahu_DEM: Did you know that a CDC model found that 59% of COVID-19 transmission came from people WITHOUT symptoms, either from before t…  \n",
       "3                                                                                                                                                              RT @NeilDotObrien: As the UK tragically hits a record number of Covid-19 deaths, Covid-sceptic-in-chief @toadmeister appears to have delete…  \n",
       "4                                                                                                                                                                               RT @LegionHoops: Nets GM Sean Marks says that Kyrie Irving is “excited” to return, and has been testing for COVID-19 daily.  \n",
       "6                                                                                                                                                             RT @PHE_uk: Due to a processing issue with deaths data the #COVID19 Dashboard update is delayed today.\\n\\n48,682 new COVID-19 positive cases…  \n",
       "9                                                                                                                                                                Record daily #German #COVID-19 deaths spark #Merkel 'mega-lockdown' plan: Bild https://t.co/GSCjjYcW9c #COVID19 #CovidVaccine #coronavirus  \n",
       "...                                                                                                                                                                                                                                                                                                     ...  \n",
       "16006  @NeveltenJohn @greggnunziata At every turn when Trump could have abused his power he didn’t. He words were harsh, loud, mean and sometimes hurtful. His actions were not. He could have use this Covid thing to grab power like Democrats did. Instead he resisted. You have been deceived by media.  \n",
       "16007                                                                                                                                                          RT @barstoolsports: The Covid Stimulus Bill Requires the Pentagon to Tell Us What it Knows About UFOs https://t.co/m78iCRxqj0 https://t.co/…  \n",
       "16008                                                                                                                                                                                                                                               @joebob2020bb If it wasn’t COVID, Trump would have won.  \n",
       "16009                                                                                                                                                          RT @SethAbramson: 4,134 dead of COVID-19 today. The worst day of the pandemic. The second-worst day was yesterday (4,100). Incredible to th…  \n",
       "16010                                                                                                                                                                                                                              RT @BURNERBBABBY: Pre covid New York was a movie https://t.co/PtcaePsBvA  \n",
       "\n",
       "[9280 rows x 4 columns]"
      ]
     },
     "execution_count": 10,
     "metadata": {},
     "output_type": "execute_result"
    }
   ],
   "source": [
    "data"
   ]
  },
  {
   "cell_type": "code",
   "execution_count": 11,
   "metadata": {},
   "outputs": [],
   "source": [
    "data.to_csv('C:\\\\Users\\jwkon\\Data Learning\\Sentiment Analysis\\covidORbitcoinORcryptocurrency.csv')"
   ]
  },
  {
   "cell_type": "code",
   "execution_count": null,
   "metadata": {},
   "outputs": [],
   "source": []
  }
 ],
 "metadata": {
  "colab": {
   "collapsed_sections": [],
   "name": "TweetAPI(Historical).ipynb",
   "provenance": []
  },
  "kernelspec": {
   "display_name": "Python 3",
   "language": "python",
   "name": "python3"
  },
  "language_info": {
   "codemirror_mode": {
    "name": "ipython",
    "version": 3
   },
   "file_extension": ".py",
   "mimetype": "text/x-python",
   "name": "python",
   "nbconvert_exporter": "python",
   "pygments_lexer": "ipython3",
   "version": "3.9.1"
  }
 },
 "nbformat": 4,
 "nbformat_minor": 4
}